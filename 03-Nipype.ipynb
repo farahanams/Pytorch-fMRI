{
 "cells": [
  {
   "cell_type": "markdown",
   "metadata": {},
   "source": [
    "03 Using Nipype to load fMRI data\n",
    "=====================\n",
    "#### Date: Feb 12 2018; Author: Farahana"
   ]
  },
  {
   "cell_type": "markdown",
   "metadata": {},
   "source": [
    "## Data Acquisition and Simple Preprocessing\n",
    "*Part 1*: Data Acquisition for anatomical and functional NifTi images\n",
    "    \n",
    "*Part 2*: Simple preprocessing\n",
    "\n",
    "*Part 3*: Getting the output of pre-processing steps (Datasink and connect the workflows.)"
   ]
  },
  {
   "cell_type": "code",
   "execution_count": 1,
   "metadata": {},
   "outputs": [
    {
     "name": "stdout",
     "output_type": "stream",
     "text": [
      "Populating the interactive namespace from numpy and matplotlib\n"
     ]
    },
    {
     "name": "stderr",
     "output_type": "stream",
     "text": [
      "/home/farahana/anaconda3/lib/python3.5/site-packages/h5py/__init__.py:34: FutureWarning: Conversion of the second argument of issubdtype from `float` to `np.floating` is deprecated. In future, it will be treated as `np.float64 == np.dtype(float).type`.\n",
      "  from ._conv import register_converters as _register_converters\n"
     ]
    }
   ],
   "source": [
    "# Base packages\n",
    "%pylab inline\n",
    "import numpy as np\n",
    "#import matplotlib.pyplot as plt\n",
    "import pandas as pd\n",
    "\n",
    "# Neuroimaging packages\n",
    "import nibabel as nib\n",
    "from nilearn.plotting import plot_img, plot_anat, plot_stat_map\n",
    "from nipype import SelectFiles, Node, DataSink\n",
    "from nipype.pipeline.engine import Workflow, MapNode\n",
    "\n",
    "# We will import the pre-processing process in their parts."
   ]
  },
  {
   "cell_type": "markdown",
   "metadata": {},
   "source": [
    "#### Checking the packages version"
   ]
  },
  {
   "cell_type": "code",
   "execution_count": 2,
   "metadata": {},
   "outputs": [
    {
     "name": "stdout",
     "output_type": "stream",
     "text": [
      "Python version: 3.5.4\n",
      "Nibabel version:  2.2.1\n",
      "Nilearn version: 0.4.0\n"
     ]
    }
   ],
   "source": [
    "import sys\n",
    "import os\n",
    "import nilearn\n",
    "print(\"Python version:\", sys.version.split()[0])\n",
    "print(\"Nibabel version: \", nib.__version__)\n",
    "print(\"Nilearn version:\", nilearn.__version__)"
   ]
  },
  {
   "cell_type": "markdown",
   "metadata": {},
   "source": [
    "#### Some helper functions to be used"
   ]
  },
  {
   "cell_type": "code",
   "execution_count": 5,
   "metadata": {},
   "outputs": [],
   "source": [
    "# Simple viewer\n",
    "def plot_nii(in_file):\n",
    "    nii = nib.load(in_file)\n",
    "    nii.orthoview()\n",
    "\n",
    "# Let's create a short helper function to plot 3D NIfTI images\n",
    "def plot_slice(fname, slice_no):\n",
    "\n",
    "    # Load the image\n",
    "    img = nib.load(fname)\n",
    "    data = img.get_data()\n",
    "\n",
    "    # Cut in the middle of the brain\n",
    "    cut = int(data.shape[-2]/2)\n",
    "\n",
    "    # Plot the data\n",
    "    imshow(np.rot90(data[:, :, cut, slice_no]), cmap=\"gray\")\n",
    "    gca().set_axis_off()    "
   ]
  },
  {
   "cell_type": "markdown",
   "metadata": {},
   "source": [
    "### Part 1: Data Acquisition for anatomical and functional NifTi images"
   ]
  },
  {
   "cell_type": "code",
   "execution_count": 6,
   "metadata": {},
   "outputs": [],
   "source": [
    "# The template string\n",
    "templates = { 'anat' : 'sub*/anatomy/highres001.nii*',\n",
    "              'func' : 'sub*/BOLD/task001_run{ses_no}/bold.nii*'}\n",
    "\n",
    "# How to address and import using SelectFiles node\n",
    "sf = Node(SelectFiles(templates),\n",
    "          name='selectfiles')\n",
    "\n",
    "sf.inputs.base_directory = '/home/farahana/Documents/dataset/Multi_Subject/ds117'"
   ]
  },
  {
   "cell_type": "code",
   "execution_count": 7,
   "metadata": {},
   "outputs": [],
   "source": [
    "# Choose the first run for subjects imports\n",
    "sf.inputs.ses_no = \"001\""
   ]
  },
  {
   "cell_type": "markdown",
   "metadata": {},
   "source": [
    "To view the import, use \n",
    "~~~\n",
    "sf.run().outputs\n",
    "~~~\n",
    "\n",
    "However, we will run this using the connect/workflow of Nipype together \n",
    "with other pre-processing steps."
   ]
  },
  {
   "cell_type": "markdown",
   "metadata": {},
   "source": [
    "Visualizing the input data folder"
   ]
  },
  {
   "cell_type": "code",
   "execution_count": null,
   "metadata": {},
   "outputs": [],
   "source": [
    "!tree /home/farahana/Documents/dataset/Multi_Subject/ds117"
   ]
  },
  {
   "cell_type": "markdown",
   "metadata": {},
   "source": [
    "### Part 2: Simple preprocessing\n",
    "*Step 1*: Brain extractions\n",
    "    \n",
    "*Step 2*: Realignment"
   ]
  },
  {
   "cell_type": "code",
   "execution_count": 8,
   "metadata": {},
   "outputs": [],
   "source": [
    "# Import BET from the FSL interface\n",
    "from nipype.interfaces.fsl import (BET, IsotropicSmooth, ExtractROI, FAST, FLIRT, ImageMaths,\n",
    "                                   MCFLIRT, SliceTimer, Threshold)\n",
    "from nipype.interfaces.spm import Smooth\n",
    "from nipype.interfaces.utility import IdentityInterface\n",
    "\n",
    "# Import Retroicor from the SPM interface\n",
    "from nipype.interfaces.spm import Realign"
   ]
  },
  {
   "cell_type": "markdown",
   "metadata": {},
   "source": [
    "#### Let us try with 1 subject 1 task pre-processing"
   ]
  },
  {
   "cell_type": "code",
   "execution_count": 9,
   "metadata": {},
   "outputs": [],
   "source": [
    "# Define the subject chosen and initialize it\n",
    "input_file = \"/home/farahana/Documents/dataset/Multi_Subject/ds117/sub003/BOLD/task001_run001/bold.nii\""
   ]
  },
  {
   "cell_type": "code",
   "execution_count": 12,
   "metadata": {},
   "outputs": [
    {
     "name": "stdout",
     "output_type": "stream",
     "text": [
      "CPU times: user 132 ms, sys: 24 ms, total: 156 ms\n",
      "Wall time: 7.48 s\n"
     ]
    },
    {
     "data": {
      "text/plain": [
       "<nipype.interfaces.base.InterfaceResult at 0x7f225f6ca518>"
      ]
     },
     "execution_count": 12,
     "metadata": {},
     "output_type": "execute_result"
    }
   ],
   "source": [
    "skullstrip_sub3 = BET(in_file = input_file,\n",
    "                     out_file = \"output/sub-03_brain.nii.gz\",\n",
    "                      functional= True,\n",
    "                     mask = True)\n",
    "\n",
    "# Run this to get the output for the input of next step\n",
    "%time skullstrip_sub3.run()"
   ]
  },
  {
   "cell_type": "code",
   "execution_count": 13,
   "metadata": {},
   "outputs": [
    {
     "name": "stdout",
     "output_type": "stream",
     "text": [
      "CPU times: user 136 ms, sys: 28 ms, total: 164 ms\n",
      "Wall time: 7.36 s\n"
     ]
    },
    {
     "data": {
      "text/plain": [
       "<nipype.interfaces.base.InterfaceResult at 0x7f225f662588>"
      ]
     },
     "execution_count": 13,
     "metadata": {},
     "output_type": "execute_result"
    }
   ],
   "source": [
    "smooth_sub3 = IsotropicSmooth(in_file = \"output/sub-03_brain.nii.gz\",\n",
    "                            out_file = \"output/sub-03_smooth.nii.gz\",\n",
    "                            fwhm=4)\n",
    "\n",
    "%time smooth_sub3.run()"
   ]
  },
  {
   "cell_type": "code",
   "execution_count": 14,
   "metadata": {},
   "outputs": [
    {
     "name": "stdout",
     "output_type": "stream",
     "text": [
      "CPU times: user 204 ms, sys: 60 ms, total: 264 ms\n",
      "Wall time: 44.5 s\n"
     ]
    },
    {
     "data": {
      "text/plain": [
       "<nipype.interfaces.base.InterfaceResult at 0x7f22813cea20>"
      ]
     },
     "execution_count": 14,
     "metadata": {},
     "output_type": "execute_result"
    }
   ],
   "source": [
    "motcor_sub3 = MCFLIRT(in_file = \"output/sub-03_smooth.nii.gz\",\n",
    "                            out_file = \"output/sub-03_mcflirt.nii.gz\",\n",
    "                     cost='mutualinfo')\n",
    "\n",
    "%time motcor_sub3.run()"
   ]
  },
  {
   "cell_type": "code",
   "execution_count": 15,
   "metadata": {},
   "outputs": [
    {
     "data": {
      "image/png": "[encoded data removed]",
      "text/plain": [
       "<matplotlib.figure.Figure at 0x7f225f6e7470>"
      ]
     },
     "metadata": {},
     "output_type": "display_data",
     "transient": {}
    }
   ],
   "source": [
    "f = plt.figure(figsize=(12, 4))\n",
    "for i, img in enumerate([\"bold\", \"brain\",\"smooth\", \"mcflirt\"]):\n",
    "    f.add_subplot(1, 4, i + 1)\n",
    "    if i == 0:\n",
    "        plot_slice(\"/home/farahana/Documents/dataset/Multi_Subject/ds117/sub003/BOLD/task001_run001/%s.nii\" % img, 1)\n",
    "    else:\n",
    "        plot_slice(\"output/sub-03_%s.nii.gz\" % img, 1)\n",
    "    plt.title(img)"
   ]
  },
  {
   "cell_type": "markdown",
   "metadata": {},
   "source": [
    "#### Now, let us try with many subjects"
   ]
  },
  {
   "cell_type": "code",
   "execution_count": null,
   "metadata": {},
   "outputs": [],
   "source": [
    "# Initiation of a workflow\n",
    "wf = Workflow(name=\"preproc\", base_dir=\"/output/working_dir\")"
   ]
  },
  {
   "cell_type": "code",
   "execution_count": null,
   "metadata": {},
   "outputs": [],
   "source": [
    "# Workflow of pre-processing steps\n",
    "skullstrip = Node(BET(output_type='NIFTI_GZ',\n",
    "                      name=\"skullstrip\"))\n",
    "\n",
    "smooth = Node(IsotropicSmooth(output_type='NIFTI_GZ',\n",
    "                              name=\"smooth\"))\n",
    "\n",
    "wf.connect([()])\n",
    "              \n",
    "              "
   ]
  }
 ],
 "metadata": {
  "kernelspec": {
   "display_name": "Python 3",
   "language": "python",
   "name": "conda-env-anaconda3-py"
  },
  "language_info": {
   "codemirror_mode": {
    "name": "ipython",
    "version": 3
   },
   "file_extension": ".py",
   "mimetype": "text/x-python",
   "name": "python",
   "nbconvert_exporter": "python",
   "pygments_lexer": "ipython3",
   "version": "3.5.4"
  }
 },
 "nbformat": 4,
 "nbformat_minor": 2
}
